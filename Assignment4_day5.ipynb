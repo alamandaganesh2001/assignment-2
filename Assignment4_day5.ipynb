{
  "nbformat": 4,
  "nbformat_minor": 0,
  "metadata": {
    "colab": {
      "name": "Assignment4 day5.ipynb",
      "provenance": [],
      "include_colab_link": true
    },
    "kernelspec": {
      "name": "python3",
      "display_name": "Python 3"
    },
    "language_info": {
      "name": "python"
    }
  },
  "cells": [
    {
      "cell_type": "markdown",
      "metadata": {
        "id": "view-in-github",
        "colab_type": "text"
      },
      "source": [
        "<a href=\"https://colab.research.google.com/github/alamandaganesh2001/assignment-2/blob/main/Assignment4_day5.ipynb\" target=\"_parent\"><img src=\"https://colab.research.google.com/assets/colab-badge.svg\" alt=\"Open In Colab\"/></a>"
      ]
    },
    {
      "cell_type": "code",
      "metadata": {
        "colab": {
          "base_uri": "https://localhost:8080/"
        },
        "id": "GEgiFAwsq-U_",
        "outputId": "7cedf54d-550b-4b58-af56-7c8f1aceada7"
      },
      "source": [
        "n = int(input(\"Enter the number\"))\n",
        " \n",
        "for i in range(2,n):\n",
        "  if (n%i != 0):\n",
        "    a = 1\n",
        "  else:\n",
        "    a = 0\n",
        "    break\n",
        " \n",
        "if (a==1):\n",
        "  print(\"prime number\")\n",
        "else:\n",
        "  print(\"not a prime number\")"
      ],
      "execution_count": null,
      "outputs": [
        {
          "output_type": "stream",
          "text": [
            "Enter the number29\n",
            "prime number\n"
          ],
          "name": "stdout"
        }
      ]
    }
  ]
}